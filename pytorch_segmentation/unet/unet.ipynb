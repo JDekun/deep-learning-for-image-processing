{
  "cells": [
    {
      "cell_type": "markdown",
      "metadata": {
        "id": "ekfmWSl4UbbQ"
      },
      "source": [
        "[![Open In Colab](https://colab.research.google.com/assets/colab-badge.svg)](https://colab.research.google.com/github/JDekun/MoCo/blob/master/MoCo.ipynb?authuser=2) [![Open In Kaggle](https://kaggle.com/static/images/open-in-kaggle.svg)](https://www.kaggle.com/code/mydekun/MoCo) [![Open In Github](https://badgen.net/badge/icon/Open%20MoCo?icon=github&label)](https://github.com/JDekun/MoCo/blob/master/MoCo.ipynb)"
      ]
    },
    {
      "cell_type": "code",
      "execution_count": null,
      "metadata": {
        "cellView": "form",
        "colab": {
          "base_uri": "https://localhost:8080/"
        },
        "id": "Rqvvx2QlUbbb",
        "outputId": "dbf3f739-7ea6-4cd7-bdf0-87c739aacd5d"
      },
      "outputs": [],
      "source": [
        "#@title [Colab] 构建Kaggle环境 && 下载数据集\n",
        "\n",
        "'''\n",
        "自动化代码，当值 colab 断路\n",
        "function ConnectButton(){\n",
        "    console.log(\"Connect pushed\"); \n",
        "    document.querySelector(\"#top-toolbar > colab-connect-button\").shadowRoot.querySelector(\"#connect\").click() \n",
        "}\n",
        "setInterval(ConnectButton,60000);\n",
        "'''\n",
        "# clearInterval()\n",
        "\n",
        "######### 数据集名字 #########\n",
        "datasets = [\"vijayabhaskar96/pascal-voc-2007-and-2012\"]  #@param {type:\"raw\"}\n",
        "import os\n",
        "\n",
        "# 构建 working input 文件夹和文件\n",
        "if not os.path.exists('/content/working'):\n",
        "  !mkdir /content/working\n",
        "if not os.path.exists('/content/input'):\n",
        "  !mkdir /content/input\n",
        "\n",
        "# 导入Kaggle API\n",
        "os.chdir('/content')\n",
        "!git clone https://github.com/JDekun/Kaggle.git > /dev/null 2>&1\n",
        "os.environ['KAGGLE_CONFIG_DIR'] = '/content/Kaggle' #注意kaggle文件夹包含json文件 \n",
        "\n",
        "# 下载数据集\n",
        "os.chdir('/content/input')\n",
        "len_mydekun = len(datasets)\n",
        "if len_mydekun != 0:\n",
        "  for i in range(len_mydekun):\n",
        "    # 下载 kaggle 数据集\n",
        "    temp = datasets[i]\n",
        "    name, dataset = temp.split('/')\n",
        "    dirlist = os.listdir('/content/input')\n",
        "\n",
        "    if (dataset in dirlist):\n",
        "      print(\"您已经下载过'%s'数据集\" % dataset)\n",
        "    else:\n",
        "      zip = dataset + '.zip'\n",
        "      !kaggle datasets download -d $temp -p $dataset\n",
        "      # 解压数据集并删除压缩包\n",
        "      !unzip $dataset/$zip -d $dataset > /dev/null 2>&1\n",
        "      !rm -f $dataset/$zip"
      ]
    },
    {
      "cell_type": "code",
      "execution_count": null,
      "metadata": {
        "cellView": "form",
        "colab": {
          "base_uri": "https://localhost:8080/"
        },
        "id": "2m4frpdEUbbe",
        "outputId": "65ba6244-5156-46b7-a796-1a7dc7d32225"
      },
      "outputs": [],
      "source": [
        "#@title [Kaggle] 克隆github项目\n",
        "import os\n",
        "######### GitHub库 #########\n",
        "github = \"https://github.com/JDekun/MoCo.git\"  #@param {type:\"string\"}\n",
        "## 工作路径\n",
        "working = github.rsplit('/',1)[-1].rsplit('.',1)[0]\n",
        "\n",
        "try:\n",
        "  os.chdir(\"/kaggle/working/\")\n",
        "except:\n",
        "  os.chdir(\"/content/working/\")\n",
        "\n",
        "!git clone $github   # 克隆 github 项目\n",
        "\n",
        "os.chdir(working)"
      ]
    },
    {
      "cell_type": "code",
      "execution_count": 3,
      "metadata": {
        "cellView": "form",
        "id": "ugjcNpCtUbbf"
      },
      "outputs": [],
      "source": [
        "#@title [TensorBoard] 在 Colab 中启动TensorBoard\n",
        "path = \"\"  #@param {type: \"string\"}\n",
        "len_tbp = len(path)\n",
        "if len_tbp != 0:\n",
        "  %reload_ext tensorboard\n",
        "  %tensorboard --logdir $path"
      ]
    },
    {
      "cell_type": "markdown",
      "metadata": {},
      "source": [
        "====================\n",
        "#######命令行#######\n",
        "===================="
      ]
    },
    {
      "cell_type": "code",
      "execution_count": null,
      "metadata": {
        "colab": {
          "base_uri": "https://localhost:8080/"
        },
        "id": "TxSmGgedYf8u",
        "outputId": "91b9e91c-9a92-405b-d064-3dd50b9e6478"
      },
      "outputs": [],
      "source": [
        "!python train_net.py --config-file configs/pascal_voc_R_50_C4_24k_moco.yaml MODEL.WEIGHTS ./output.pkl MODEL.RESNETS.NORM BN SOLVER.IMS_PER_BATCH 2"
      ]
    }
  ],
  "metadata": {
    "accelerator": "GPU",
    "colab": {
      "name": "MoCo.ipynb",
      "provenance": []
    },
    "gpuClass": "standard",
    "kernelspec": {
      "display_name": "Python 3.9.12 ('base')",
      "language": "python",
      "name": "python3"
    },
    "language_info": {
      "codemirror_mode": {
        "name": "ipython",
        "version": 3
      },
      "file_extension": ".py",
      "mimetype": "text/x-python",
      "name": "python",
      "nbconvert_exporter": "python",
      "pygments_lexer": "ipython3",
      "version": "3.9.12"
    },
    "orig_nbformat": 4,
    "vscode": {
      "interpreter": {
        "hash": "cc9daa352394ac6fd6b224fdae94757fb224b4aab069bc0189ad8c000c678227"
      }
    }
  },
  "nbformat": 4,
  "nbformat_minor": 0
}
