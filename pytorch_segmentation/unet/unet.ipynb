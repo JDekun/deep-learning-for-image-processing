{
 "cells": [
  {
   "cell_type": "markdown",
   "metadata": {},
   "source": [
    "[![Open In Colab ](https://colab.research.google.com/assets/colab-badge.svg)](https://colab.research.google.com/github/JDekun/deep-learning-for-image-processing/blob/master/pytorch_segmentation/unet/unet.ipynb?authuser=1) \n",
    "[![Open In Kaggle](https://kaggle.com/static/images/open-in-kaggle.svg)](https://www.kaggle.com/code/mydekun/MoCo) \n",
    "[![Open In Github](https://badgen.net/badge/icon/Open%20MoCo?icon=github&label)](https://github.com/JDekun/deep-learning-for-image-processing/blob/master/pytorch_segmentation/unet/unet.ipynb)"
   ]
  },
  {
   "cell_type": "code",
   "execution_count": null,
   "metadata": {},
   "outputs": [],
   "source": [
    "#@title [Colab] 构建Kaggle环境 && 下载数据集\n",
    "\n",
    "'''\n",
    "自动化代码，当值 colab 断路\n",
    "function ConnectButton(){\n",
    "    console.log(\"Connect pushed\"); \n",
    "    document.querySelector(\"#top-toolbar > colab-connect-button\").shadowRoot.querySelector(\"#connect\").click() \n",
    "}\n",
    "setInterval(ConnectButton,60000);\n",
    "'''\n",
    "# clearInterval()\n",
    "\n",
    "######### 数据集名字 #########\n",
    "datasets = [\"vijayabhaskar96/pascal-voc-2007-and-2012\"]  #@param {type:\"raw\"}\n",
    "import os\n",
    "\n",
    "# 构建 working input 文件夹和文件\n",
    "if not os.path.exists('/content/working'):\n",
    "  !mkdir /content/working\n",
    "if not os.path.exists('/content/input'):\n",
    "  !mkdir /content/input\n",
    "\n",
    "# 导入Kaggle API\n",
    "os.chdir('/content')\n",
    "!git clone https://github.com/JDekun/Kaggle.git > /dev/null 2>&1\n",
    "os.environ['KAGGLE_CONFIG_DIR'] = '/content/Kaggle' #注意kaggle文件夹包含json文件 \n",
    "\n",
    "# 下载数据集\n",
    "os.chdir('/content/input')\n",
    "len_mydekun = len(datasets)\n",
    "if len_mydekun != 0:\n",
    "  for i in range(len_mydekun):\n",
    "    # 下载 kaggle 数据集\n",
    "    temp = datasets[i]\n",
    "    name, dataset = temp.split('/')\n",
    "    dirlist = os.listdir('/content/input')\n",
    "\n",
    "    if (dataset in dirlist):\n",
    "      print(\"您已经下载过'%s'数据集\" % dataset)\n",
    "    else:\n",
    "      zip = dataset + '.zip'\n",
    "      !kaggle datasets download -d $temp -p $dataset\n",
    "      # 解压数据集并删除压缩包\n",
    "      !unzip $dataset/$zip -d $dataset > /dev/null 2>&1\n",
    "      !rm -f $dataset/$zip"
   ]
  },
  {
   "cell_type": "code",
   "execution_count": null,
   "metadata": {},
   "outputs": [],
   "source": [
    "#@title [Kaggle && Colab] 克隆github项目\n",
    "import os\n",
    "######### GitHub库 #########\n",
    "github = \"https://github.com/JDekun/MoCo.git\"  #@param {type:\"string\"}\n",
    "## 工作路径\n",
    "working = github.rsplit('/',1)[-1].rsplit('.',1)[0]\n",
    "\n",
    "try:\n",
    "  os.chdir(\"/kaggle/working/\")\n",
    "except:\n",
    "  os.chdir(\"/content/working/\")\n",
    "\n",
    "!git clone $github   # 克隆 github 项目\n",
    "\n",
    "os.chdir(working)"
   ]
  },
  {
   "cell_type": "code",
   "execution_count": null,
   "metadata": {},
   "outputs": [],
   "source": [
    "#@title [Colab] 启动TensorBoard\n",
    "path = \"\"  #@param {type: \"string\"}\n",
    "len_tbp = len(path)\n",
    "if len_tbp != 0:\n",
    "  %reload_ext tensorboard\n",
    "  %tensorboard --logdir $path"
   ]
  },
  {
   "cell_type": "markdown",
   "metadata": {},
   "source": [
    "===============================分割线==============================="
   ]
  },
  {
   "cell_type": "code",
   "execution_count": null,
   "metadata": {},
   "outputs": [],
   "source": [
    "!python train_net.py --config-file configs/pascal_voc_R_50_C4_24k_moco.yaml MODEL.WEIGHTS ./output.pkl MODEL.RESNETS.NORM BN SOLVER.IMS_PER_BATCH 2"
   ]
  }
 ],
 "metadata": {
  "kernelspec": {
   "display_name": "Python 3.6.9 64-bit",
   "language": "python",
   "name": "python3"
  },
  "language_info": {
   "name": "python",
   "version": "3.6.9"
  },
  "orig_nbformat": 4,
  "vscode": {
   "interpreter": {
    "hash": "31f2aee4e71d21fbe5cf8b01ff0e069b9275f58929596ceb00d14d90e3e16cd6"
   }
  }
 },
 "nbformat": 4,
 "nbformat_minor": 2
}
