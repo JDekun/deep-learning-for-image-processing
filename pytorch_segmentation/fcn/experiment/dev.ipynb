{
 "cells": [
  {
   "cell_type": "code",
   "execution_count": null,
   "metadata": {},
   "outputs": [],
   "source": [
    "# 实验前运行，有且只能运行一次\n",
    "import os\n",
    "os.chdir(\"../\")"
   ]
  },
  {
   "cell_type": "code",
   "execution_count": null,
   "metadata": {},
   "outputs": [],
   "source": [
    "# Best mIOU 72.3\n",
    "!CUDA_VISIBLE_DEVICES=2,3 torchrun --nproc_per_node=2 train_multi_GPU.py \\\n",
    "    --b 16 --sync_bn True --amp True --aux True\\\n",
    "    --epochs 20 --start_epoch 0 \\ \n",
    "    2>&1 | tee ./experiment/output.log\n",
    "\n",
    "# 设置设备间同步BN，mIOU：72.2 -> 72.3\n"
   ]
  }
 ],
 "metadata": {
  "kernelspec": {
   "display_name": "Python 3.9.12 ('base')",
   "language": "python",
   "name": "python3"
  },
  "language_info": {
   "name": "python",
   "version": "3.9.12"
  },
  "orig_nbformat": 4,
  "vscode": {
   "interpreter": {
    "hash": "42a4ea106d429adb85b92cbf5fe6fad5ad2431a3e82cdef4435b2cc92f522609"
   }
  }
 },
 "nbformat": 4,
 "nbformat_minor": 2
}
